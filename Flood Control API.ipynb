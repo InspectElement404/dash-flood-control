{
 "cells": [
  {
   "cell_type": "code",
   "execution_count": 1,
   "id": "7d0ac589-563e-4f27-b992-783a72c1b3f7",
   "metadata": {},
   "outputs": [],
   "source": [
    "import pandas as pd\n",
    "import plotly_express as px"
   ]
  },
  {
   "cell_type": "code",
   "execution_count": 9,
   "id": "bb55820e-911d-4b60-ad73-45bbd9abfa62",
   "metadata": {},
   "outputs": [],
   "source": [
    "#reading the csv file\n",
    "df = pd.read_csv(\"flood_control_data.csv\", sep=\",\")"
   ]
  },
  {
   "cell_type": "code",
   "execution_count": 34,
   "id": "ae58be39-5885-4ed7-8834-966f9397f523",
   "metadata": {
    "scrolled": true
   },
   "outputs": [
    {
     "data": {
      "text/plain": [
       "563276984063.2"
      ]
     },
     "execution_count": 34,
     "metadata": {},
     "output_type": "execute_result"
    }
   ],
   "source": [
    "df[\"ABC\"].sum()"
   ]
  },
  {
   "cell_type": "code",
   "execution_count": 21,
   "id": "109507b4-a4fb-444d-bca7-016cd17c6757",
   "metadata": {},
   "outputs": [
    {
     "data": {
      "text/plain": [
       "2025"
      ]
     },
     "execution_count": 21,
     "metadata": {},
     "output_type": "execute_result"
    }
   ],
   "source": [
    "#retrieving the min and max of the infra year\n",
    "df[\"InfraYear\"].max()"
   ]
  },
  {
   "cell_type": "code",
   "execution_count": 31,
   "id": "0f65d424-6ed4-49a0-a7b9-22947dfe3aa1",
   "metadata": {},
   "outputs": [
    {
     "data": {
      "text/plain": [
       "array(['PANGASINAN', 'LA UNION', 'ILOCOS SUR', 'ILOCOS NORTE'],\n",
       "      dtype=object)"
      ]
     },
     "execution_count": 31,
     "metadata": {},
     "output_type": "execute_result"
    }
   ],
   "source": [
    "#retrieve all region\n",
    "df[df[\"Region\"] == \"Region I\"][\"Province\"].unique()"
   ]
  },
  {
   "cell_type": "code",
   "execution_count": null,
   "id": "d1542d73-6a7c-407d-b24a-f0eed3ef94d7",
   "metadata": {},
   "outputs": [],
   "source": [
    "#get the total alocated funds default\n",
    "\n"
   ]
  }
 ],
 "metadata": {
  "kernelspec": {
   "display_name": "Python 3 (ipykernel)",
   "language": "python",
   "name": "python3"
  },
  "language_info": {
   "codemirror_mode": {
    "name": "ipython",
    "version": 3
   },
   "file_extension": ".py",
   "mimetype": "text/x-python",
   "name": "python",
   "nbconvert_exporter": "python",
   "pygments_lexer": "ipython3",
   "version": "3.12.10"
  }
 },
 "nbformat": 4,
 "nbformat_minor": 5
}
